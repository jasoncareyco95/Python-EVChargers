{
 "cells": [
  {
   "cell_type": "code",
   "execution_count": 1,
   "metadata": {},
   "outputs": [],
   "source": [
    "## Import libraries\n",
    "import numpy as np\n",
    "import pandas as pd\n",
    "import geopandas as gpd\n",
    "import shapely.geometry as shp\n",
    "from random import sample\n",
    "import requests\n",
    "import polyline\n",
    "import folium\n",
    "from math import radians, sin, cos, atan2, sqrt\n",
    "\n",
    "meters2miles = 0.000621371\n",
    "\n",
    "def sample_point(data, crs):\n",
    "    ## sample one random row from data\n",
    "    sample_road_row = sample(range(len(data)), 1)\n",
    "\n",
    "    ## Filter down data to sample road\n",
    "    sample_road_data = data.loc[sample_road_row].reset_index(drop = True)\n",
    "\n",
    "    ## Randomly select a pair of coordinates within the road we've selected as a starting point\n",
    "    sample_road_coords = list(sample_road_data.geometry[0].coords)\n",
    "    sample_index = sample(range(len(sample_road_coords)), 1)\n",
    "    sample_geo = shp.Point(list(sample_road_coords[sample_index[0]]))\n",
    "\n",
    "    ## Return a list with the corresponding sample road row number in 'data' and a geometry object\n",
    "    return({\n",
    "        \"road_row_num\" : sample_road_data.record[0], \n",
    "        \"point\" : gpd.GeoDataFrame({'geometry' : [sample_geo]}, crs = crs)\n",
    "    })\n",
    "\n",
    "def get_start_point(data, crs):\n",
    "\n",
    "    # filter only roadways of level 3\n",
    "    valid_startpoints = data[data[\"level\"] == 3].reset_index(drop = True)\n",
    "\n",
    "    return sample_point(valid_startpoints, crs)\n",
    "\n",
    "def get_end_point(data, start_pos, route_dist, crs):\n",
    "    \n",
    "    # calculate distances from start_position, these are in meters since we are using EPSG:32613\n",
    "    data['distances'] = data['geometry'].distance(start_pos['point'].geometry[0])\n",
    "    \n",
    "    # filter only distances that are further than half route_dist\n",
    "    valid_endpoints = data[data['distances'] >= (route_dist / 2)].reset_index(drop = True)\n",
    "\n",
    "    return sample_point(valid_endpoints, crs)\n",
    "\n",
    "def get_route(pickup, dropoff, crs):\n",
    "    pickup_lon = pickup['point'].to_crs(crs).iloc[0]['geometry'].x\n",
    "    pickup_lat = pickup['point'].to_crs(crs).iloc[0]['geometry'].y\n",
    "    \n",
    "    dropoff_lon = dropoff['point'].to_crs(crs).iloc[0]['geometry'].x\n",
    "    dropoff_lat = dropoff['point'].to_crs(crs).iloc[0]['geometry'].y\n",
    "    \n",
    "    loc = \"{},{};{},{}\".format(pickup_lon, pickup_lat, dropoff_lon, dropoff_lat)\n",
    "    url = \"http://router.project-osrm.org/route/v1/driving/\"\n",
    "    r = requests.get(url + loc) \n",
    "    if r.status_code!= 200:\n",
    "        return {}\n",
    "  \n",
    "    res = r.json()   \n",
    "    routes = polyline.decode(res['routes'][0]['geometry'])\n",
    "    start_point = [res['waypoints'][0]['location'][1], res['waypoints'][0]['location'][0]]\n",
    "    end_point = [res['waypoints'][1]['location'][1], res['waypoints'][1]['location'][0]]\n",
    "    distance = res['routes'][0]['distance']\n",
    "    \n",
    "    out = {'route':routes,\n",
    "           'start_point':start_point,\n",
    "           'end_point':end_point,\n",
    "           'distance':distance\n",
    "          }\n",
    "\n",
    "    return out\n",
    "\n",
    "def get_map(route, zoom_level):\n",
    "    \n",
    "    m = folium.Map(location=[(route['start_point'][0] + route['end_point'][0])/2, \n",
    "                             (route['start_point'][1] + route['end_point'][1])/2], \n",
    "                   zoom_start=zoom_level)\n",
    "    folium.PolyLine(\n",
    "        route['route'],\n",
    "        weight=8,\n",
    "        color='blue',\n",
    "        opacity=0.6\n",
    "    ).add_to(m)\n",
    "\n",
    "    folium.Marker(\n",
    "        location=route['start_point'],\n",
    "        icon=folium.Icon(icon='play', color='green')\n",
    "    ).add_to(m)\n",
    "\n",
    "    folium.Marker(\n",
    "        location=route['end_point'],\n",
    "        icon=folium.Icon(icon='stop', color='red')\n",
    "    ).add_to(m)\n",
    "\n",
    "    return m\n",
    "\n",
    "def distance(origin, destination):\n",
    "    \"\"\"\n",
    "    Calculate the Haversine distance.\n",
    "\n",
    "    Parameters\n",
    "    ----------\n",
    "    origin : tuple of float\n",
    "        (lat, long)\n",
    "    destination : tuple of float\n",
    "        (lat, long)\n",
    "\n",
    "    Returns\n",
    "    -------\n",
    "    distance_in_km : float\n",
    "\n",
    "    Examples\n",
    "    --------\n",
    "    >>> origin = (48.1372, 11.5756)  # Munich\n",
    "    >>> destination = (52.5186, 13.4083)  # Berlin\n",
    "    >>> round(distance(origin, destination), 1)\n",
    "    504.2\n",
    "    \"\"\"\n",
    "    lat1, lon1 = origin\n",
    "    lat2, lon2 = destination\n",
    "    radius = 6371  # km\n",
    "\n",
    "    dlat = radians(lat2 - lat1)\n",
    "    dlon = radians(lon2 - lon1)\n",
    "    a = (sin(dlat / 2) * sin(dlat / 2) +\n",
    "         cos(radians(lat1)) * cos(radians(lat2)) *\n",
    "         sin(dlon / 2) * sin(dlon / 2))\n",
    "    c = 2 * atan2(sqrt(a), sqrt(1 - a))\n",
    "    d = radius * c\n",
    "\n",
    "    return d\n"
   ]
  },
  {
   "cell_type": "markdown",
   "metadata": {},
   "source": [
    "- project from WSG84 onto UTM CRS https://en.wikipedia.org/wiki/Universal_Transverse_Mercator_coordinate_system. This then means coordinates are expressed in meters. This will not work if LINESTRING and POINT are in different UTM zones\n",
    "- Colorado is split up into three reference zones: North, Central and South (https://spatialreference.org/ref/?search=colorado).  However, UTM zone 13N covers all of Colorado but it is in meters.\n",
    "- then it's exceptionally simple to use https://geopandas.readthedocs.io/en/latest/docs/reference/api/geopandas.GeoSeries.distance.html"
   ]
  },
  {
   "cell_type": "code",
   "execution_count": 2,
   "metadata": {},
   "outputs": [],
   "source": [
    "# load Colorado roadways using EPSG:32613 – WGS 84 / UTM zone 13N (in meters)\n",
    "CO_roads = gpd.read_file('../data/all_roads.shp').to_crs(\"EPSG:32613\") "
   ]
  },
  {
   "cell_type": "code",
   "execution_count": 3,
   "metadata": {},
   "outputs": [],
   "source": [
    "start_pos = get_start_point(CO_roads, \"EPSG:32613\") # epsg -> crs\n",
    "end_pos = get_end_point(CO_roads, start_pos, 250 / meters2miles, \"EPSG:32613\")"
   ]
  },
  {
   "cell_type": "code",
   "execution_count": 4,
   "metadata": {},
   "outputs": [
    {
     "name": "stdout",
     "output_type": "stream",
     "text": [
      "Distance from (39.7548,-105.0767) to (37.2677,-107.1023) is 203.60 miles.\n"
     ]
    }
   ],
   "source": [
    "print(\"Distance from ({:.4f},{:.4f}) to ({:.4f},{:.4f}) is {:.2f} miles.\".format(\n",
    "    start_pos['point'].to_crs(4326).iloc[0]['geometry'].y,\n",
    "    start_pos['point'].to_crs(4326).iloc[0]['geometry'].x,\n",
    "    end_pos['point'].to_crs(4326).iloc[0]['geometry'].y,\n",
    "    end_pos['point'].to_crs(4326).iloc[0]['geometry'].x,\n",
    "    end_pos['point'].distance(start_pos['point']).iloc[0]*meters2miles))\n",
    "# print(start_pos['road_row_num'])\n",
    "# print(end_pos['road_row_num'])\n",
    "# print(CO_roads.loc[start_pos['road_row_num']]['geometry'])\n",
    "# print(CO_roads.loc[end_pos['road_row_num']]['geometry'])"
   ]
  },
  {
   "cell_type": "markdown",
   "metadata": {},
   "source": [
    "Something is still not correct. The distance  (in miles) does not correspond to what Google Maps provides.  On the positive side, it seems like a minimum route distance of 250 miles round trip is maintained."
   ]
  },
  {
   "cell_type": "code",
   "execution_count": 5,
   "metadata": {},
   "outputs": [],
   "source": [
    "test_route_1 = get_route(start_pos, end_pos, 4326)"
   ]
  },
  {
   "cell_type": "code",
   "execution_count": 6,
   "metadata": {},
   "outputs": [
    {
     "data": {
      "text/html": [
       "<div style=\"width:100%;\"><div style=\"position:relative;width:100%;height:0;padding-bottom:60%;\"><span style=\"color:#565656\">Make this Notebook Trusted to load map: File -> Trust Notebook</span><iframe src=\"about:blank\" style=\"position:absolute;width:100%;height:100%;left:0;top:0;border:none !important;\" data-html=%3C%21DOCTYPE%20html%3E%0A%3Chead%3E%20%20%20%20%0A%20%20%20%20%3Cmeta%20http-equiv%3D%22content-type%22%20content%3D%22text/html%3B%20charset%3DUTF-8%22%20/%3E%0A%20%20%20%20%0A%20%20%20%20%20%20%20%20%3Cscript%3E%0A%20%20%20%20%20%20%20%20%20%20%20%20L_NO_TOUCH%20%3D%20false%3B%0A%20%20%20%20%20%20%20%20%20%20%20%20L_DISABLE_3D%20%3D%20false%3B%0A%20%20%20%20%20%20%20%20%3C/script%3E%0A%20%20%20%20%0A%20%20%20%20%3Cstyle%3Ehtml%2C%20body%20%7Bwidth%3A%20100%25%3Bheight%3A%20100%25%3Bmargin%3A%200%3Bpadding%3A%200%3B%7D%3C/style%3E%0A%20%20%20%20%3Cstyle%3E%23map%20%7Bposition%3Aabsolute%3Btop%3A0%3Bbottom%3A0%3Bright%3A0%3Bleft%3A0%3B%7D%3C/style%3E%0A%20%20%20%20%3Cscript%20src%3D%22https%3A//cdn.jsdelivr.net/npm/leaflet%401.6.0/dist/leaflet.js%22%3E%3C/script%3E%0A%20%20%20%20%3Cscript%20src%3D%22https%3A//code.jquery.com/jquery-1.12.4.min.js%22%3E%3C/script%3E%0A%20%20%20%20%3Cscript%20src%3D%22https%3A//maxcdn.bootstrapcdn.com/bootstrap/3.2.0/js/bootstrap.min.js%22%3E%3C/script%3E%0A%20%20%20%20%3Cscript%20src%3D%22https%3A//cdnjs.cloudflare.com/ajax/libs/Leaflet.awesome-markers/2.0.2/leaflet.awesome-markers.js%22%3E%3C/script%3E%0A%20%20%20%20%3Clink%20rel%3D%22stylesheet%22%20href%3D%22https%3A//cdn.jsdelivr.net/npm/leaflet%401.6.0/dist/leaflet.css%22/%3E%0A%20%20%20%20%3Clink%20rel%3D%22stylesheet%22%20href%3D%22https%3A//maxcdn.bootstrapcdn.com/bootstrap/3.2.0/css/bootstrap.min.css%22/%3E%0A%20%20%20%20%3Clink%20rel%3D%22stylesheet%22%20href%3D%22https%3A//maxcdn.bootstrapcdn.com/bootstrap/3.2.0/css/bootstrap-theme.min.css%22/%3E%0A%20%20%20%20%3Clink%20rel%3D%22stylesheet%22%20href%3D%22https%3A//maxcdn.bootstrapcdn.com/font-awesome/4.6.3/css/font-awesome.min.css%22/%3E%0A%20%20%20%20%3Clink%20rel%3D%22stylesheet%22%20href%3D%22https%3A//cdnjs.cloudflare.com/ajax/libs/Leaflet.awesome-markers/2.0.2/leaflet.awesome-markers.css%22/%3E%0A%20%20%20%20%3Clink%20rel%3D%22stylesheet%22%20href%3D%22https%3A//cdn.jsdelivr.net/gh/python-visualization/folium/folium/templates/leaflet.awesome.rotate.min.css%22/%3E%0A%20%20%20%20%0A%20%20%20%20%20%20%20%20%20%20%20%20%3Cmeta%20name%3D%22viewport%22%20content%3D%22width%3Ddevice-width%2C%0A%20%20%20%20%20%20%20%20%20%20%20%20%20%20%20%20initial-scale%3D1.0%2C%20maximum-scale%3D1.0%2C%20user-scalable%3Dno%22%20/%3E%0A%20%20%20%20%20%20%20%20%20%20%20%20%3Cstyle%3E%0A%20%20%20%20%20%20%20%20%20%20%20%20%20%20%20%20%23map_81e2ca35fa214eb5891b8fb72741f337%20%7B%0A%20%20%20%20%20%20%20%20%20%20%20%20%20%20%20%20%20%20%20%20position%3A%20relative%3B%0A%20%20%20%20%20%20%20%20%20%20%20%20%20%20%20%20%20%20%20%20width%3A%20100.0%25%3B%0A%20%20%20%20%20%20%20%20%20%20%20%20%20%20%20%20%20%20%20%20height%3A%20100.0%25%3B%0A%20%20%20%20%20%20%20%20%20%20%20%20%20%20%20%20%20%20%20%20left%3A%200.0%25%3B%0A%20%20%20%20%20%20%20%20%20%20%20%20%20%20%20%20%20%20%20%20top%3A%200.0%25%3B%0A%20%20%20%20%20%20%20%20%20%20%20%20%20%20%20%20%7D%0A%20%20%20%20%20%20%20%20%20%20%20%20%3C/style%3E%0A%20%20%20%20%20%20%20%20%0A%3C/head%3E%0A%3Cbody%3E%20%20%20%20%0A%20%20%20%20%0A%20%20%20%20%20%20%20%20%20%20%20%20%3Cdiv%20class%3D%22folium-map%22%20id%3D%22map_81e2ca35fa214eb5891b8fb72741f337%22%20%3E%3C/div%3E%0A%20%20%20%20%20%20%20%20%0A%3C/body%3E%0A%3Cscript%3E%20%20%20%20%0A%20%20%20%20%0A%20%20%20%20%20%20%20%20%20%20%20%20var%20map_81e2ca35fa214eb5891b8fb72741f337%20%3D%20L.map%28%0A%20%20%20%20%20%20%20%20%20%20%20%20%20%20%20%20%22map_81e2ca35fa214eb5891b8fb72741f337%22%2C%0A%20%20%20%20%20%20%20%20%20%20%20%20%20%20%20%20%7B%0A%20%20%20%20%20%20%20%20%20%20%20%20%20%20%20%20%20%20%20%20center%3A%20%5B38.511277500000006%2C%20-106.0895125%5D%2C%0A%20%20%20%20%20%20%20%20%20%20%20%20%20%20%20%20%20%20%20%20crs%3A%20L.CRS.EPSG3857%2C%0A%20%20%20%20%20%20%20%20%20%20%20%20%20%20%20%20%20%20%20%20zoom%3A%209%2C%0A%20%20%20%20%20%20%20%20%20%20%20%20%20%20%20%20%20%20%20%20zoomControl%3A%20true%2C%0A%20%20%20%20%20%20%20%20%20%20%20%20%20%20%20%20%20%20%20%20preferCanvas%3A%20false%2C%0A%20%20%20%20%20%20%20%20%20%20%20%20%20%20%20%20%7D%0A%20%20%20%20%20%20%20%20%20%20%20%20%29%3B%0A%0A%20%20%20%20%20%20%20%20%20%20%20%20%0A%0A%20%20%20%20%20%20%20%20%0A%20%20%20%20%0A%20%20%20%20%20%20%20%20%20%20%20%20var%20tile_layer_6e0b2ec692e1405cafcf92119f709261%20%3D%20L.tileLayer%28%0A%20%20%20%20%20%20%20%20%20%20%20%20%20%20%20%20%22https%3A//%7Bs%7D.tile.openstreetmap.org/%7Bz%7D/%7Bx%7D/%7By%7D.png%22%2C%0A%20%20%20%20%20%20%20%20%20%20%20%20%20%20%20%20%7B%22attribution%22%3A%20%22Data%20by%20%5Cu0026copy%3B%20%5Cu003ca%20href%3D%5C%22http%3A//openstreetmap.org%5C%22%5Cu003eOpenStreetMap%5Cu003c/a%5Cu003e%2C%20under%20%5Cu003ca%20href%3D%5C%22http%3A//www.openstreetmap.org/copyright%5C%22%5Cu003eODbL%5Cu003c/a%5Cu003e.%22%2C%20%22detectRetina%22%3A%20false%2C%20%22maxNativeZoom%22%3A%2018%2C%20%22maxZoom%22%3A%2018%2C%20%22minZoom%22%3A%200%2C%20%22noWrap%22%3A%20false%2C%20%22opacity%22%3A%201%2C%20%22subdomains%22%3A%20%22abc%22%2C%20%22tms%22%3A%20false%7D%0A%20%20%20%20%20%20%20%20%20%20%20%20%29.addTo%28map_81e2ca35fa214eb5891b8fb72741f337%29%3B%0A%20%20%20%20%20%20%20%20%0A%20%20%20%20%0A%20%20%20%20%20%20%20%20%20%20%20%20var%20poly_line_5d90dc84e53e45cb8dde3732651bbf94%20%3D%20L.polyline%28%0A%20%20%20%20%20%20%20%20%20%20%20%20%20%20%20%20%5B%5B39.75484%2C%20-105.07673%5D%2C%20%5B39.65321%2C%20-105.08146%5D%2C%20%5B39.61946%2C%20-105.22837%5D%2C%20%5B39.55395%2C%20-105.24105%5D%2C%20%5B39.54186%2C%20-105.2961%5D%2C%20%5B39.509%2C%20-105.30771%5D%2C%20%5B39.46715%2C%20-105.38084%5D%2C%20%5B39.45428%2C%20-105.43822%5D%2C%20%5B39.4058%2C%20-105.47389%5D%2C%20%5B39.45948%2C%20-105.66136%5D%2C%20%5B39.45634%2C%20-105.72259%5D%2C%20%5B39.4283%2C%20-105.76401%5D%2C%20%5B39.40313%2C%20-105.75526%5D%2C%20%5B39.40513%2C%20-105.77839%5D%2C%20%5B39.27955%2C%20-105.91619%5D%2C%20%5B39.27583%2C%20-105.9516%5D%2C%20%5B39.22181%2C%20-105.99336%5D%2C%20%5B39.16686%2C%20-106.00163%5D%2C%20%5B38.97216%2C%20-105.95857%5D%2C%20%5B38.89765%2C%20-105.99089%5D%2C%20%5B38.84694%2C%20-105.98776%5D%2C%20%5B38.80959%2C%20-106.11642%5D%2C%20%5B38.75278%2C%20-106.08168%5D%2C%20%5B38.62535%2C%20-106.07751%5D%2C%20%5B38.50962%2C%20-106.07675%5D%2C%20%5B38.44863%2C%20-106.10682%5D%2C%20%5B38.24617%2C%20-105.94748%5D%2C%20%5B38.18177%2C%20-105.94056%5D%2C%20%5B38.15002%2C%20-105.96122%5D%2C%20%5B38.09774%2C%20-106.05764%5D%2C%20%5B38.08824%2C%20-106.14215%5D%2C%20%5B37.74815%2C%20-106.14897%5D%2C%20%5B37.74718%2C%20-106.25925%5D%2C%20%5B37.67867%2C%20-106.35189%5D%2C%20%5B37.6688%2C%20-106.64154%5D%2C%20%5B37.55466%2C%20-106.77626%5D%2C%20%5B37.48032%2C%20-106.77183%5D%2C%20%5B37.48664%2C%20-106.83516%5D%2C%20%5B37.4611%2C%20-106.88513%5D%2C%20%5B37.36917%2C%20-106.90108%5D%2C%20%5B37.3242%2C%20-106.9613%5D%2C%20%5B37.27082%2C%20-106.99157%5D%2C%20%5B37.25437%2C%20-107.07785%5D%2C%20%5B37.26772%2C%20-107.1023%5D%5D%2C%0A%20%20%20%20%20%20%20%20%20%20%20%20%20%20%20%20%7B%22bubblingMouseEvents%22%3A%20true%2C%20%22color%22%3A%20%22blue%22%2C%20%22dashArray%22%3A%20null%2C%20%22dashOffset%22%3A%20null%2C%20%22fill%22%3A%20false%2C%20%22fillColor%22%3A%20%22blue%22%2C%20%22fillOpacity%22%3A%200.2%2C%20%22fillRule%22%3A%20%22evenodd%22%2C%20%22lineCap%22%3A%20%22round%22%2C%20%22lineJoin%22%3A%20%22round%22%2C%20%22noClip%22%3A%20false%2C%20%22opacity%22%3A%200.6%2C%20%22smoothFactor%22%3A%201.0%2C%20%22stroke%22%3A%20true%2C%20%22weight%22%3A%208%7D%0A%20%20%20%20%20%20%20%20%20%20%20%20%29.addTo%28map_81e2ca35fa214eb5891b8fb72741f337%29%3B%0A%20%20%20%20%20%20%20%20%0A%20%20%20%20%0A%20%20%20%20%20%20%20%20%20%20%20%20var%20marker_a5fffa69e4a84f9eb9ce6d4ff41cd01a%20%3D%20L.marker%28%0A%20%20%20%20%20%20%20%20%20%20%20%20%20%20%20%20%5B39.754837%2C%20-105.076725%5D%2C%0A%20%20%20%20%20%20%20%20%20%20%20%20%20%20%20%20%7B%7D%0A%20%20%20%20%20%20%20%20%20%20%20%20%29.addTo%28map_81e2ca35fa214eb5891b8fb72741f337%29%3B%0A%20%20%20%20%20%20%20%20%0A%20%20%20%20%0A%20%20%20%20%20%20%20%20%20%20%20%20var%20icon_14259285bbc14f4faac80e8d2fd83935%20%3D%20L.AwesomeMarkers.icon%28%0A%20%20%20%20%20%20%20%20%20%20%20%20%20%20%20%20%7B%22extraClasses%22%3A%20%22fa-rotate-0%22%2C%20%22icon%22%3A%20%22play%22%2C%20%22iconColor%22%3A%20%22white%22%2C%20%22markerColor%22%3A%20%22green%22%2C%20%22prefix%22%3A%20%22glyphicon%22%7D%0A%20%20%20%20%20%20%20%20%20%20%20%20%29%3B%0A%20%20%20%20%20%20%20%20%20%20%20%20marker_a5fffa69e4a84f9eb9ce6d4ff41cd01a.setIcon%28icon_14259285bbc14f4faac80e8d2fd83935%29%3B%0A%20%20%20%20%20%20%20%20%0A%20%20%20%20%0A%20%20%20%20%20%20%20%20%20%20%20%20var%20marker_9d780bd8e28c499e80bd114218a3919f%20%3D%20L.marker%28%0A%20%20%20%20%20%20%20%20%20%20%20%20%20%20%20%20%5B37.267718%2C%20-107.1023%5D%2C%0A%20%20%20%20%20%20%20%20%20%20%20%20%20%20%20%20%7B%7D%0A%20%20%20%20%20%20%20%20%20%20%20%20%29.addTo%28map_81e2ca35fa214eb5891b8fb72741f337%29%3B%0A%20%20%20%20%20%20%20%20%0A%20%20%20%20%0A%20%20%20%20%20%20%20%20%20%20%20%20var%20icon_78cfe2152d9248fca56971f9bc95ff59%20%3D%20L.AwesomeMarkers.icon%28%0A%20%20%20%20%20%20%20%20%20%20%20%20%20%20%20%20%7B%22extraClasses%22%3A%20%22fa-rotate-0%22%2C%20%22icon%22%3A%20%22stop%22%2C%20%22iconColor%22%3A%20%22white%22%2C%20%22markerColor%22%3A%20%22red%22%2C%20%22prefix%22%3A%20%22glyphicon%22%7D%0A%20%20%20%20%20%20%20%20%20%20%20%20%29%3B%0A%20%20%20%20%20%20%20%20%20%20%20%20marker_9d780bd8e28c499e80bd114218a3919f.setIcon%28icon_78cfe2152d9248fca56971f9bc95ff59%29%3B%0A%20%20%20%20%20%20%20%20%0A%3C/script%3E onload=\"this.contentDocument.open();this.contentDocument.write(    decodeURIComponent(this.getAttribute('data-html')));this.contentDocument.close();\" allowfullscreen webkitallowfullscreen mozallowfullscreen></iframe></div></div>"
      ],
      "text/plain": [
       "<folium.folium.Map at 0x7f31b813ae10>"
      ]
     },
     "execution_count": 6,
     "metadata": {},
     "output_type": "execute_result"
    }
   ],
   "source": [
    "get_map(test_route_1, 9)"
   ]
  },
  {
   "cell_type": "code",
   "execution_count": null,
   "metadata": {},
   "outputs": [],
   "source": []
  }
 ],
 "metadata": {
  "kernelspec": {
   "display_name": "Python 3",
   "language": "python",
   "name": "python3"
  },
  "language_info": {
   "codemirror_mode": {
    "name": "ipython",
    "version": 3
   },
   "file_extension": ".py",
   "mimetype": "text/x-python",
   "name": "python",
   "nbconvert_exporter": "python",
   "pygments_lexer": "ipython3",
   "version": "3.6.8"
  },
  "latex_envs": {
   "LaTeX_envs_menu_present": true,
   "autoclose": false,
   "autocomplete": true,
   "bibliofile": "biblio.bib",
   "cite_by": "apalike",
   "current_citInitial": 1,
   "eqLabelWithNumbers": true,
   "eqNumInitial": 1,
   "hotkeys": {
    "equation": "Ctrl-E",
    "itemize": "Ctrl-I"
   },
   "labels_anchors": false,
   "latex_user_defs": false,
   "report_style_numbering": false,
   "user_envs_cfg": false
  }
 },
 "nbformat": 4,
 "nbformat_minor": 2
}
